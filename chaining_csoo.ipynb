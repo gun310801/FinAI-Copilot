{
 "cells": [
  {
   "cell_type": "code",
   "execution_count": 111,
   "metadata": {},
   "outputs": [],
   "source": [
    "import os\n",
    "from dotenv import load_dotenv\n",
    "load_dotenv()  \n",
    "key_string = os.getenv('GEMINI_API_KEY')"
   ]
  },
  {
   "cell_type": "code",
   "execution_count": 14,
   "metadata": {},
   "outputs": [],
   "source": [
    "import re\n",
    "from langchain.document_loaders import PyPDFLoader"
   ]
  },
  {
   "cell_type": "code",
   "execution_count": 98,
   "metadata": {},
   "outputs": [],
   "source": [
    "def pdf_loader(file_path):\n",
    "    loader = PyPDFLoader(file_path)\n",
    "    return loader.load()\n"
   ]
  },
  {
   "cell_type": "code",
   "execution_count": 99,
   "metadata": {},
   "outputs": [],
   "source": [
    "def pdf_loader(file_path):\n",
    "    loader = PyPDFLoader(file_path)\n",
    "    return loader.load()\n",
    "\n",
    "def page_finder(document):\n",
    "    start_page = None\n",
    "    end_page = None\n",
    "\n",
    "    for doc in document:\n",
    "        if doc.page_content.startswith(\"Item 8\"):\n",
    "            start_page = doc.metadata['page']\n",
    "            break \n",
    "\n",
    "    for doc in document:\n",
    "        if doc.page_content.startswith(\"Item 9\"):\n",
    "            end_page = doc.metadata['page']\n",
    "            break \n",
    "\n",
    "    if start_page is None or end_page is None:\n",
    "        raise ValueError(\"Could not find 'Item 8' or 'Item 9' in the document\")\n",
    "\n",
    "    return start_page, end_page\n",
    "\n",
    "\n",
    "def page_executor(document):\n",
    "    start_page, end_page = page_finder(document)\n",
    "    extracted_documents = [\n",
    "        doc for doc in document\n",
    "        if start_page <= doc.metadata['page'] < end_page\n",
    "    ]\n",
    "\n",
    "    return extracted_documents"
   ]
  },
  {
   "cell_type": "code",
   "execution_count": 101,
   "metadata": {},
   "outputs": [],
   "source": [
    "def executor_main():\n",
    "    pdf_dir = \"documents_04_06\"\n",
    "    final_document = []\n",
    "    pdf_files = [f for f in os.listdir(pdf_dir) if f.endswith('.pdf')]\n",
    "    for pdf_file in pdf_files:\n",
    "        document = pdf_loader(os.path.join(pdf_dir, pdf_file))\n",
    "        extracted_docs = page_executor(document)\n",
    "        for r in extracted_docs:\n",
    "            if \"CONSOLIDATED STATEMENTS OF OPERATIONS\" in r.page_content:\n",
    "                final_document.append(r.page_content)\n",
    "    return final_document\n",
    "    \n",
    "doc = executor_main()\n"
   ]
  },
  {
   "cell_type": "code",
   "execution_count": 102,
   "metadata": {},
   "outputs": [
    {
     "data": {
      "text/plain": [
       "['CONSOLIDATED STATEMENTS OF OPERATIONS\\n(In millions, except number of shares which are reflected in thousands and per share amounts) Years ended  September 24, 2016\\xa0 September 26, 2015\\xa0 September 27, 2014Net sales$ 215,639\\xa0$233,715\\xa0$182,795Cost of sales131,376 \\xa0140,089\\xa0112,258Gross margin84,263 93,626 70,537 \\xa0\\xa0 \\xa0 \\xa0\\xa0 \\xa0Operating expenses:\\xa0 \\xa0 \\xa0\\xa0 \\xa0Research and development10,045 \\xa08,067 \\xa06,041 Selling, general and administrative14,194 \\xa014,329 \\xa011,993 Total operating expenses24,239 22,396 18,034 \\xa0\\xa0 \\xa0 \\xa0\\xa0 \\xa0Operating income60,024 \\xa071,230 \\xa052,503 Other income/(expense), net1,348 \\xa01,285 \\xa0980 Income before provision for income taxes61,372 72,515 53,483 Provision for income taxes15,685 \\xa019,121 \\xa013,973 Net income$ 45,687$53,394$39,510\\xa0\\xa0 \\xa0 \\xa0\\xa0 \\xa0Earnings per share:\\xa0 \\xa0 \\xa0\\xa0 \\xa0Basic$ 8.35 \\xa0$9.28 \\xa0$6.49 Diluted$ 8.31 \\xa0$9.22 \\xa0$6.45 \\xa0\\xa0 \\xa0 \\xa0\\xa0 \\xa0Shares used in computing earnings per share:\\xa0 \\xa0 \\xa0\\xa0 \\xa0Basic5,470,820 \\xa0 5,753,421\\xa0 6,085,572Diluted5,500,281 \\xa0 5,793,069\\xa0 6,122,663\\xa0\\xa0 \\xa0 \\xa0\\xa0 \\xa0Cash dividends declared per share$ 2.18 \\xa0$1.98 \\xa0$1.82 See accompanying Notes to Consolidated Financial Statements.Apple Inc. | 2016 Form 10-K | 39 ',\n",
       " 'Apple Inc.\\nCONSOLIDATED STATEMENTS OF OPERATIONS(In millions, except number of shares which are reflected in thousands and per share amounts)\\xa0Years ended \\xa0September 29, 2018\\xa0 September 30, 2017\\xa0 September 24, 2016Net sales$ 265,595\\xa0$229,234\\xa0$215,639Cost of sales163,756 \\xa0141,048\\xa0131,376Gross margin101,839 88,186 84,263 \\xa0\\xa0 \\xa0 \\xa0\\xa0 \\xa0Operating expenses:\\xa0 \\xa0 \\xa0\\xa0 \\xa0Research and development14,236 \\xa011,581\\xa010,045Selling, general and administrative16,705 \\xa015,261\\xa014,194Total operating expenses30,941 26,842 24,239 \\xa0\\xa0 \\xa0 \\xa0\\xa0 \\xa0Operating income70,898 \\xa061,344\\xa060,024Other income/(expense), net2,005 \\xa02,745 \\xa01,348 Income before provision for income taxes72,903 64,089 61,372 Provision for income taxes13,372 \\xa015,738\\xa015,685Net income$ 59,531$48,351$45,687\\xa0\\xa0 \\xa0 \\xa0\\xa0 \\xa0Earnings per share:\\xa0 \\xa0 \\xa0\\xa0 \\xa0Basic$ 12.01\\xa0$9.27 \\xa0$8.35 Diluted$ 11.91\\xa0$9.21 \\xa0$8.31 \\xa0\\xa0 \\xa0 \\xa0\\xa0 \\xa0Shares used in computing earnings per share:\\xa0 \\xa0 \\xa0\\xa0 \\xa0Basic4,955,377 \\xa0 5,217,242\\xa0 5,470,820Diluted5,000,109 \\xa0 5,251,692\\xa0 5,500,281See accompanying Notes to Consolidated Financial Statements.Apple Inc. | 2018 Form 10-K | 38 ',\n",
       " 'Apple Inc.\\nCONSOLIDATED STATEMENTS OF OPERATIONS(In millions, except number of shares, which are reflected in thousands, and per-share amounts)\\nYears ended\\nSeptember 28,2024 September 30,2023 September 24,2022\\nNet sales:\\n   Products $ 294,866 $ 298,085 $ 316,199 \\n   Services 96,169 85,200 78,129 \\nTotal net sales 391,035 383,285 394,328 \\nCost of sales:\\n   Products 185,233 189,282 201,471 \\n   Services 25,119 24,855 22,075 \\nTotal cost of sales 210,352 214,137 223,546 \\nGross margin 180,683 169,148 170,782 \\nOperating expenses:\\nResearch and development 31,370 29,915 26,251 \\nSelling, general and administrative 26,097 24,932 25,094 \\nTotal operating expenses 57,467 54,847 51,345 \\nOperating income 123,216 114,301 119,437 \\nOther income/(expense), net 269 (565) (334)\\nIncome before provision for income taxes 123,485 113,736 119,103 \\nProvision for income taxes 29,749 16,741 19,300 \\nNet income $ 93,736 $ 96,995 $ 99,803 \\nEarnings per share:\\nBasic $ 6.11 $ 6.16 $ 6.15 \\nDiluted $ 6.08 $ 6.13 $ 6.11 \\nShares used in computing earnings per share:\\nBasic 15,343,783 15,744,231 16,215,963 \\nDiluted 15,408,095 15,812,547 16,325,819 \\nSee accompanying Notes to Consolidated Financial Statements.\\nApple Inc. | 2024 Form 10-K | 29',\n",
       " 'Apple Inc.\\nCONSOLIDATED STATEMENTS OF OPERATIONS(In millions, except number of shares which are reflected in thousands and per share amounts)Years ended September 26, 2020September 28, 2019September 29, 2018Net sales:   Products$ 220,747 $213,883 $225,847    Services53,768 46,291 39,748 Total net sales274,515 260,174 265,595 Cost of sales:   Products151,286 144,996 148,164    Services18,273 16,786 15,592 Total cost of sales169,559 161,782 163,756 Gross margin104,956 98,392 101,839 Operating expenses:Research and development18,752 16,217 14,236 Selling, general and administrative19,916 18,245 16,705 Total operating expenses38,668 34,462 30,941 Operating income66,288 63,930 70,898 Other income/(expense), net803 1,807 2,005 Income before provision for income taxes67,091 65,737 72,903 Provision for income taxes9,680 10,481 13,372 Net income$ 57,411 $55,256 $59,531 Earnings per share:Basic$ 3.31 $2.99 $3.00 Diluted$ 3.28 $2.97 $2.98 Shares used in computing earnings per share:Basic17,352,119 18,471,336 19,821,510 Diluted17,528,214 18,595,651 20,000,435 See accompanying Notes to Consolidated Financial Statements.Apple Inc. | 2020 Form 10-K | 31 ',\n",
       " 'Apple Inc.\\nCONSOLIDATED STATEMENTS OF OPERATIONS(In millions, except number of shares which are reflected in thousands and per share amounts)\\nYears ended\\nSeptember 24,2022 September 25,2021 September 26,2020\\nNet sales:\\n   Products $ 316,199 $ 297,392 $ 220,747 \\n   Services 78,129 68,425 53,768 \\nTotal net sales 394,328 365,817 274,515 \\nCost of sales:\\n   Products 201,471 192,266 151,286 \\n   Services 22,075 20,715 18,273 \\nTotal cost of sales 223,546 212,981 169,559 \\nGross margin 170,782 152,836 104,956 \\nOperating expenses:\\nResearch and development 26,251 21,914 18,752 \\nSelling, general and administrative 25,094 21,973 19,916 \\nTotal operating expenses 51,345 43,887 38,668 \\nOperating income 119,437 108,949 66,288 \\nOther income/(expense), net (334) 258 803 \\nIncome before provision for income taxes 119,103 109,207 67,091 \\nProvision for income taxes 19,300 14,527 9,680 \\nNet income $ 99,803 $ 94,680 $ 57,411 \\nEarnings per share:\\nBasic $ 6.15 $ 5.67 $ 3.31 \\nDiluted $ 6.11 $ 5.61 $ 3.28 \\nShares used in computing earnings per share:\\nBasic 16,215,963 16,701,272 17,352,119 \\nDiluted 16,325,819 16,864,919 17,528,214 \\nSee accompanying Notes to Consolidated Financial Statements.\\nApple Inc. | 2022 Form 10-K | 29']"
      ]
     },
     "execution_count": 102,
     "metadata": {},
     "output_type": "execute_result"
    }
   ],
   "source": [
    "doc"
   ]
  },
  {
   "cell_type": "code",
   "execution_count": 109,
   "metadata": {},
   "outputs": [],
   "source": [
    "from langchain.chains import SequentialChain\n",
    "from langchain.prompts import PromptTemplate\n",
    "from langchain_google_genai import ChatGoogleGenerativeAI\n",
    "from langchain.chains import LLMChain\n",
    "from langchain.agents import AgentExecutor, Tool\n",
    "from langchain.agents import ZeroShotAgent\n",
    "\n",
    "extract_prompt = PromptTemplate(\n",
    "    input_variables=[\"document\"],\n",
    "    template=\"\"\"\n",
    "You are a financial data extraction assistant.\n",
    "\n",
    "Your job is to extract the STATEMENTS OF OPERATIONS (also known as Income Statement or Profit & Loss) from the document below into a consistent JSON format, matching standard 10-K structure.\n",
    "There might be multiple statements of operations in the document.\n",
    "Document:\n",
    "{document}\n",
    "\n",
    "Return a JSON array where each object represents a **single fiscal year** and contains:\n",
    "\n",
    "[\n",
    "  {{\n",
    "    \"report_date\": \"YYYY-MM-DD\",\n",
    "    \"section\": \"profit_and_loss\",\n",
    "    \"net_sales\": {{\n",
    "      \"products\": ...,\n",
    "      \"services\": ...,\n",
    "      \"total\": ...\n",
    "    }},\n",
    "    \"cost_of_sales\": {{\n",
    "      \"products\": ...,\n",
    "      \"services\": ...,\n",
    "      \"total\": ...\n",
    "    }},\n",
    "    \"gross_margin\": ...,\n",
    "    \"operating_expenses\": {{\n",
    "      \"research_and_development\": ...,\n",
    "      \"selling_general_and_administrative\": ...,\n",
    "      \"total\": ...\n",
    "    }},\n",
    "    \"operating_income\": ...,\n",
    "    \"other_income_or_expense_net\": ...,\n",
    "    \"income_before_tax\": ...,\n",
    "    \"tax_provision\": ...,\n",
    "    \"net_income\": ...,\n",
    "    \"earnings_per_share\": {{\n",
    "      \"basic\": ...,\n",
    "      \"diluted\": ...\n",
    "    }},\n",
    "    \"shares_used_in_computing_eps\": {{\n",
    "      \"basic\": ...,\n",
    "      \"diluted\": ...\n",
    "    }}\n",
    "  }},\n",
    "  ...\n",
    "]\n",
    "\n",
    "Instructions:\n",
    "- Parse values from tables and text if needed.\n",
    "- Normalize field names (e.g., \"SG&A\" → \"selling_general_and_administrative\").\n",
    "- Use `null` for missing values.\n",
    "- Use `\"report_date\"` in ISO format: YYYY-MM-DD (e.g., “Sep 30, 2024” → “2024-09-30”).\n",
    "- Return only the valid JSON array with all numeric values as numbers (not strings).\n",
    "- please make sure the list of dictionaries returned is in the order of the report_date\n",
    "- please make sure all the report_dates are covered and we dont miss any report dates\n",
    "- please make sure we have only one entry for each report date, pritoritize the most complete and recent data for each repeated report date\n",
    "\"\"\"\n",
    ")\n",
    "\n",
    "\n",
    "llm = ChatGoogleGenerativeAI(model=\"gemini-2.0-flash\",temperature=0, google_api_key=key_string)\n",
    "# 🧠 Build the single extract chain\n",
    "extract_chain = LLMChain(\n",
    "    llm=llm,\n",
    "    prompt=extract_prompt,\n",
    "    output_key=\"json_output\"  # customize output key\n",
    ")\n",
    "\n",
    "# 🏃 Run the chain\n",
    "\n",
    "response = extract_chain.run(document=doc)\n",
    "\n"
   ]
  },
  {
   "cell_type": "code",
   "execution_count": 110,
   "metadata": {},
   "outputs": [],
   "source": [
    "response = response.strip()\n",
    "response = response.replace('```json\\n', '')\n",
    "response = response.replace('```', '')\n",
    "response = response.strip()\n",
    "\n",
    "import json\n",
    "structured_data = json.loads(response)\n",
    "\n",
    "with open('structured_data_all.json', 'w') as f:\n",
    "    json.dump(structured_data, f, indent=4)\n"
   ]
  }
 ],
 "metadata": {
  "kernelspec": {
   "display_name": "base",
   "language": "python",
   "name": "python3"
  },
  "language_info": {
   "codemirror_mode": {
    "name": "ipython",
    "version": 3
   },
   "file_extension": ".py",
   "mimetype": "text/x-python",
   "name": "python",
   "nbconvert_exporter": "python",
   "pygments_lexer": "ipython3",
   "version": "3.11.5"
  }
 },
 "nbformat": 4,
 "nbformat_minor": 2
}
